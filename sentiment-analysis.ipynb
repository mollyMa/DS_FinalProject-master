{
 "metadata": {
  "name": ""
 },
 "nbformat": 3,
 "nbformat_minor": 0,
 "worksheets": [
  {
   "cells": [
    {
     "cell_type": "code",
     "collapsed": false,
     "input": [
      "import pandas as pd\n",
      "import json\n",
      "import datetime\n",
      "%matplotlib inline\n",
      "import matplotlib.pyplot as plt\n",
      "import json\n",
      "import numpy as np"
     ],
     "language": "python",
     "metadata": {},
     "outputs": [],
     "prompt_number": 39
    },
    {
     "cell_type": "code",
     "collapsed": false,
     "input": [
      "# Load Market Returns data\n",
      "df_sp  = pd.DataFrame.from_csv('sp500.csv')\n",
      "df_dow = pd.DataFrame.from_csv('dow30.csv')\n",
      "df_sp  = df_sp.reset_index()\n",
      "df_sp  = df_sp.rename(columns={'Adj Close': 'Adj_Close'})\n",
      "df_sp  = df_sp.reindex(columns=['Date', 'Open', 'High', 'Low', 'Close', 'Volume', 'Adj_Close'])\n",
      "df_sp.head()"
     ],
     "language": "python",
     "metadata": {},
     "outputs": [
      {
       "html": [
        "<div style=\"max-height:1000px;max-width:1500px;overflow:auto;\">\n",
        "<table border=\"1\" class=\"dataframe\">\n",
        "  <thead>\n",
        "    <tr style=\"text-align: right;\">\n",
        "      <th></th>\n",
        "      <th>Date</th>\n",
        "      <th>Open</th>\n",
        "      <th>High</th>\n",
        "      <th>Low</th>\n",
        "      <th>Close</th>\n",
        "      <th>Volume</th>\n",
        "      <th>Adj_Close</th>\n",
        "    </tr>\n",
        "  </thead>\n",
        "  <tbody>\n",
        "    <tr>\n",
        "      <th>0</th>\n",
        "      <td>1950-01-04 00:00:00</td>\n",
        "      <td> 16.85</td>\n",
        "      <td> 16.85</td>\n",
        "      <td> 16.85</td>\n",
        "      <td> 16.85</td>\n",
        "      <td> 1890000</td>\n",
        "      <td> 16.85</td>\n",
        "    </tr>\n",
        "    <tr>\n",
        "      <th>1</th>\n",
        "      <td>1950-01-05 00:00:00</td>\n",
        "      <td> 16.93</td>\n",
        "      <td> 16.93</td>\n",
        "      <td> 16.93</td>\n",
        "      <td> 16.93</td>\n",
        "      <td> 2550000</td>\n",
        "      <td> 16.93</td>\n",
        "    </tr>\n",
        "    <tr>\n",
        "      <th>2</th>\n",
        "      <td>1950-01-06 00:00:00</td>\n",
        "      <td> 16.98</td>\n",
        "      <td> 16.98</td>\n",
        "      <td> 16.98</td>\n",
        "      <td> 16.98</td>\n",
        "      <td> 2010000</td>\n",
        "      <td> 16.98</td>\n",
        "    </tr>\n",
        "    <tr>\n",
        "      <th>3</th>\n",
        "      <td>1950-01-09 00:00:00</td>\n",
        "      <td> 17.08</td>\n",
        "      <td> 17.08</td>\n",
        "      <td> 17.08</td>\n",
        "      <td> 17.08</td>\n",
        "      <td> 2520000</td>\n",
        "      <td> 17.08</td>\n",
        "    </tr>\n",
        "    <tr>\n",
        "      <th>4</th>\n",
        "      <td>1950-01-10 00:00:00</td>\n",
        "      <td> 17.03</td>\n",
        "      <td> 17.03</td>\n",
        "      <td> 17.03</td>\n",
        "      <td> 17.03</td>\n",
        "      <td> 2160000</td>\n",
        "      <td> 17.03</td>\n",
        "    </tr>\n",
        "  </tbody>\n",
        "</table>\n",
        "</div>"
       ],
       "metadata": {},
       "output_type": "pyout",
       "prompt_number": 23,
       "text": [
        "                 Date   Open   High    Low  Close   Volume  Adj_Close\n",
        "0 1950-01-04 00:00:00  16.85  16.85  16.85  16.85  1890000      16.85\n",
        "1 1950-01-05 00:00:00  16.93  16.93  16.93  16.93  2550000      16.93\n",
        "2 1950-01-06 00:00:00  16.98  16.98  16.98  16.98  2010000      16.98\n",
        "3 1950-01-09 00:00:00  17.08  17.08  17.08  17.08  2520000      17.08\n",
        "4 1950-01-10 00:00:00  17.03  17.03  17.03  17.03  2160000      17.03"
       ]
      }
     ],
     "prompt_number": 23
    },
    {
     "cell_type": "code",
     "collapsed": false,
     "input": [
      "# sp500 data\n",
      "\n",
      "# returns_1 = Close(today) / Open(today) - 1\n",
      "# returns_2 = Close(today) / Open(yesterday) - 1\n",
      "# returns_3 = Close(today) / Open(the day before yesterday) - 1\n",
      "# returns_4 = close(today) / Open(3 days ago) -1\n",
      "# returns_5 = close(today) / Open(4 days ago) - 1\n",
      "df_sp  = df_sp.reset_index()\n",
      "df_sp  = df_sp.rename(columns={'Adj Close': 'Adj_Close'})\n",
      "df_sp  = df_sp.reindex(columns=['Date', 'Open', 'High', 'Low', 'Close', 'Volume', 'Adj_Close'])\n",
      "\n",
      "df_sp.head()\n",
      "for i in range(5):\n",
      "    df = pd.DataFrame([{'Date': df_sp.Date[j], \\\n",
      "                        'returns_'+str(i+1): df_sp.Close[j]/df_sp.Open[j-i] - 1} \\\n",
      "                       for j in range(i,len(df_sp))])\n",
      "    df = df.set_index('Date')\n",
      "    df_sp = df_sp.join(df, on=['Date'], how='outer')\n",
      "\n",
      "\n",
      "# returns_cfp (close from priorday) = Open(today) / Close(yesterday) - 1\n",
      "# returns_y = returns_1 of yesterday\n",
      "df    = pd.DataFrame([{'Date':        df_sp.Date[j], \\\n",
      "                       'returns_cfp': df_sp.Open[j]/df_sp.Close[j-1] - 1, \\\n",
      "                       'returns_y':   df_sp.returns_1[j-1] \\\n",
      "                       } for j in range(1,len(df_sp))])\n",
      "df    = df.set_index('Date')\n",
      "df_sp = df_sp.join(df, on=['Date'], how='outer')\n",
      "\n",
      "\n",
      "# volatility = 10-day std dev\n",
      "df    = pd.DataFrame([{'Date':       df_sp.Date[j], \\\n",
      "                       'volatility': df_sp.returns_1[j-10:j].std() \\\n",
      "                       } for j in range(10,len(df_sp))])\n",
      "df    = df.set_index('Date')\n",
      "df_sp = df_sp.join(df, on=['Date'], how='outer')\n",
      "\n",
      "df_sp.head()"
     ],
     "language": "python",
     "metadata": {},
     "outputs": [
      {
       "html": [
        "<pre>\n",
        "&ltclass 'pandas.core.frame.DataFrame'&gt\n",
        "Int64Index: 5 entries, 0 to 4\n",
        "Data columns (total 15 columns):\n",
        "Date           5  non-null values\n",
        "Open           5  non-null values\n",
        "High           5  non-null values\n",
        "Low            5  non-null values\n",
        "Close          5  non-null values\n",
        "Volume         5  non-null values\n",
        "Adj_Close      5  non-null values\n",
        "returns_1      5  non-null values\n",
        "returns_2      4  non-null values\n",
        "returns_3      3  non-null values\n",
        "returns_4      2  non-null values\n",
        "returns_5      1  non-null values\n",
        "returns_cfp    4  non-null values\n",
        "returns_y      4  non-null values\n",
        "volatility     0  non-null values\n",
        "dtypes: datetime64[ns](1), float64(13), int64(1)\n",
        "</pre>"
       ],
       "metadata": {},
       "output_type": "pyout",
       "prompt_number": 24,
       "text": [
        "                 Date   Open   High    Low  Close   Volume  Adj_Close  \\\n",
        "0 1950-01-04 00:00:00  16.85  16.85  16.85  16.85  1890000      16.85   \n",
        "1 1950-01-05 00:00:00  16.93  16.93  16.93  16.93  2550000      16.93   \n",
        "2 1950-01-06 00:00:00  16.98  16.98  16.98  16.98  2010000      16.98   \n",
        "3 1950-01-09 00:00:00  17.08  17.08  17.08  17.08  2520000      17.08   \n",
        "4 1950-01-10 00:00:00  17.03  17.03  17.03  17.03  2160000      17.03   \n",
        "\n",
        "   returns_1  returns_2  returns_3  returns_4  returns_5  returns_cfp  \\\n",
        "0          0        NaN        NaN        NaN        NaN          NaN   \n",
        "1          0   0.004748        NaN        NaN        NaN     0.004748   \n",
        "2          0   0.002953   0.007715        NaN        NaN     0.002953   \n",
        "3          0   0.005889   0.008860   0.013650        NaN     0.005889   \n",
        "4          0  -0.002927   0.002945   0.005907   0.010682    -0.002927   \n",
        "\n",
        "   returns_y  volatility  \n",
        "0        NaN         NaN  \n",
        "1          0         NaN  \n",
        "2          0         NaN  \n",
        "3          0         NaN  \n",
        "4          0         NaN  "
       ]
      }
     ],
     "prompt_number": 24
    },
    {
     "cell_type": "code",
     "collapsed": false,
     "input": [
      "from HTMLParser import HTMLParser\n",
      "\n",
      "class Parser(HTMLParser):\n",
      "    \n",
      "    QUOTE = 'Quote from'   \n",
      "    DASH = '----'\n",
      "    \n",
      "    def __init__(self):\n",
      "        self.data = ''\n",
      "        self.skip_nextdata=False\n",
      "        HTMLParser.__init__(self)\n",
      "        self.ll = len(Parser.QUOTE)\n",
      "    \n",
      "    def handle_starttag(self, tag, attrs):\n",
      "        if tag in ['a', 'img']:\n",
      "            self.skip_nextdata=True       \n",
      "        if tag == 'font':\n",
      "            for attr in attrs:\n",
      "                if attr == ('class','quo'):\n",
      "                    self.skip_nextdata=True\n",
      "    \n",
      "    def handle_data(self, data):\n",
      "        if self.skip_nextdata:\n",
      "            self.skip_nextdata = False\n",
      "            return\n",
      "        l1 = data.find(self.QUOTE)\n",
      "        if l1 > 0:           \n",
      "            l2 = data[l1+self.ll:].find(':')\n",
      "            data = data[:l1]+data[l1+self.ll+l2+1:]\n",
      "        data = data.replace('\\r',' ')\n",
      "        data = data.replace('\\n',' ')\n",
      "        data = data.strip()\n",
      "        d = data.find(self.DASH)\n",
      "        if d>0:\n",
      "            data=data[:d+4]\n",
      "        self.data += data\n",
      "       \n",
      "def parse(data):\n",
      "    parser = Parser()\n",
      "    parser.feed(data)\n",
      "    return parser.data"
     ],
     "language": "python",
     "metadata": {},
     "outputs": [],
     "prompt_number": 25
    },
    {
     "cell_type": "code",
     "collapsed": false,
     "input": [
      "lines = []\n",
      "for line in open('items.json'):\n",
      "    line = line.strip()\n",
      "    startIdx = 0\n",
      "    endIdx = -1\n",
      "    if line[0]=='[':\n",
      "        startIdx = 1\n",
      "    if line[-1]==',' or line[-1]==']':\n",
      "        endIdx = -1\n",
      "#     print line[startIdx:endIdx]\n",
      "    lines.append(json.loads(line[startIdx:endIdx]))\n",
      "\n",
      "forumsdata = pd.DataFrame(lines)\n",
      "# forumsdata = pd.read_csv('items.csv')\n",
      "forumsdata['content']=forumsdata['content'].map(lambda x: parse(x))"
     ],
     "language": "python",
     "metadata": {},
     "outputs": [],
     "prompt_number": 26
    },
    {
     "cell_type": "code",
     "collapsed": false,
     "input": [
      "print forumsdata.content[0:100]"
     ],
     "language": "python",
     "metadata": {},
     "outputs": [
      {
       "output_type": "stream",
       "stream": "stdout",
       "text": [
        "0     You can buy futures contracts that go out as f...\n",
        "1     Thank you, this is about the only sensible ans...\n",
        "2     Thank you, this is about the only sensible ans...\n",
        "3     You are not activity trading it, so put a bid ...\n",
        "4     You are not activity trading it, so put a bid ...\n",
        "5     You can buy futures contracts that go out as f...\n",
        "6                                                      \n",
        "7     never buy options, as they are worthless from ...\n",
        "8     Israel can't be seen as the aggressor ... I th...\n",
        "9     Why do you keep talking about gambling? No one...\n",
        "10    This vid. ie. music should be playing as the F...\n",
        "11    Teheran is crazy, mad but not stupid. These gu...\n",
        "12    Trading is not rocket science, after trading a...\n",
        "13    3. If you are happy with those proper FX strat...\n",
        "14    Only two threads on day trading were  started ...\n",
        "...\n",
        "85    Finally, an intelligent post.Trading is a COMP...\n",
        "86    emg you seem to suffer from mental retardation...\n",
        "87    Any advice for stock trading platforms where y...\n",
        "88           That's a little harsh on retards isn't it?\n",
        "89    Wow...I didn't know that most small traders we...\n",
        "90    Revisiting this article (research) again:Do In...\n",
        "91    A majority of traders are undercapitalizedYou ...\n",
        "92    Does emg have a mental disability? I am going ...\n",
        "93    Smearing shit on a piece of paper would be a v...\n",
        "94         I think soDoes emg have a mental disability?\n",
        "95    It's because people can't be simple. They tend...\n",
        "96         because 90% of people cannot trade properly.\n",
        "97    because 90% of people cannot trade properly.Ho...\n",
        "98    more like 90% of people are simple. If you obs...\n",
        "99    Really?-------------------------------------Ho...\n",
        "Name: content, Length: 100, dtype: object\n"
       ]
      }
     ],
     "prompt_number": 27
    },
    {
     "cell_type": "code",
     "collapsed": false,
     "input": [
      "forumsdata['timestamp']=forumsdata['timestamp'].map(lambda x: datetime.datetime.strptime(x[3:11],\"%m-%d-%y\"))\n",
      "forumsdata['content']=forumsdata['content'].map(lambda x: parse(x))\n",
      "merged_sp = forumsdata.merge(df_sp,left_on='timestamp',right_on='Date')"
     ],
     "language": "python",
     "metadata": {},
     "outputs": [],
     "prompt_number": 28
    },
    {
     "cell_type": "code",
     "collapsed": false,
     "input": [
      "merged_sp.groupby('Date').content.count().hist(log=True, bins=range(20), edgecolor='white')\n",
      "plt.xlabel(\"Date\")\n",
      "plt.ylabel(\"N\")"
     ],
     "language": "python",
     "metadata": {},
     "outputs": [
      {
       "metadata": {},
       "output_type": "pyout",
       "prompt_number": 29,
       "text": [
        "<matplotlib.text.Text at 0x8f0eb38>"
       ]
      },
      {
       "metadata": {},
       "output_type": "display_data",
       "png": "[encoded data removed]",
       "text": [
        "<matplotlib.figure.Figure at 0xf789358>"
       ]
      }
     ],
     "prompt_number": 29
    },
    {
     "cell_type": "code",
     "collapsed": false,
     "input": [
      "merged_sp['yy'] = (merged_sp['returns_1']>0)\n",
      "merged_sp['yy'] = merged_sp['yy'].map({False:0, True:1})"
     ],
     "language": "python",
     "metadata": {},
     "outputs": [],
     "prompt_number": 30
    },
    {
     "cell_type": "code",
     "collapsed": false,
     "input": [
      "print len( merged_sp[( merged_sp['yy'] == 1) ]), len( merged_sp[( merged_sp['yy'] == 0) ])"
     ],
     "language": "python",
     "metadata": {},
     "outputs": [
      {
       "output_type": "stream",
       "stream": "stdout",
       "text": [
        "21510 23113\n"
       ]
      }
     ],
     "prompt_number": 31
    },
    {
     "cell_type": "code",
     "collapsed": false,
     "input": [
      "from sklearn.feature_extraction.text import CountVectorizer\n",
      "vectorizer = CountVectorizer(min_df=0)\n",
      "X = vectorizer.fit_transform(merged_sp.content)\n",
      "X = X.tocsc()"
     ],
     "language": "python",
     "metadata": {},
     "outputs": [],
     "prompt_number": 32
    },
    {
     "cell_type": "code",
     "collapsed": false,
     "input": [
      "Y = merged_sp.yy\n",
      "Y = (merged_sp.yy == True).values.astype(np.int)"
     ],
     "language": "python",
     "metadata": {},
     "outputs": [],
     "prompt_number": 55
    },
    {
     "cell_type": "code",
     "collapsed": false,
     "input": [
      "from sklearn.cross_validation import train_test_split\n",
      "from sklearn.naive_bayes import MultinomialNB\n",
      "\n",
      "xtrain, xtest, ytrain, ytest = train_test_split(X, Y)\n",
      "clf = MultinomialNB().fit(xtrain, ytrain)\n",
      "\n",
      "training_accuracy = clf.score(xtrain, ytrain)\n",
      "test_accuracy = clf.score(xtest, ytest)\n",
      "\n",
      "print \"Accuracy on training data: %0.2f\" % (training_accuracy)\n",
      "print \"Accuracy on test data:     %0.2f\" % (test_accuracy)"
     ],
     "language": "python",
     "metadata": {},
     "outputs": [
      {
       "output_type": "stream",
       "stream": "stdout",
       "text": [
        "Accuracy on training data: 0.81\n",
        "Accuracy on test data:     0.62\n"
       ]
      }
     ],
     "prompt_number": 56
    },
    {
     "cell_type": "code",
     "collapsed": false,
     "input": [
      "#Should only be run on a very powerful machine. Otherwise this throws up an out of memroy error.\n",
      "#Printing the words after running it on a powerful machine\n",
      "\n",
      "# import numpy as np\n",
      "# words = np.array(vectorizer.get_feature_names())\n",
      "\n",
      "# x = np.eye(xtest.shape[1])\n",
      "# probs = clf.predict_log_proba(x)[:, 0]\n",
      "# ind = np.argsort(probs)\n",
      "\n",
      "# good_words = words[ind[:10]]\n",
      "# bad_words = words[ind[-10:]]\n",
      "# good_prob = probs[ind[:10]]\n",
      "# bad_prob = probs[ind[-10:]]\n",
      "\n",
      "# print \"Good words\\t     P(+ | word)\"\n",
      "# for w, p in zip(good_words, good_prob):\n",
      "#     print \"%20s\" % w, \"%0.2f\" % (1 - np.exp(p))\n",
      "    \n",
      "# print \"Bad words\\t     P(- | word)\"\n",
      "# for w, p in zip(bad_words, bad_prob):\n",
      "#     print \"%20s\" % w, \"%0.2f\" % (1 - np.exp(p))"
     ],
     "language": "python",
     "metadata": {},
     "outputs": [],
     "prompt_number": 57
    },
    {
     "cell_type": "code",
     "collapsed": false,
     "input": [
      "with open('goodbad.txt') as f:\n",
      "    print f.read()"
     ],
     "language": "python",
     "metadata": {},
     "outputs": [
      {
       "output_type": "stream",
       "stream": "stdout",
       "text": [
        "Good words\t     P(+ | word)\n",
        "                 acf 0.97\n",
        "             elgindy 0.97\n",
        "       spreadbetting 0.96\n",
        "             carlyle 0.95\n",
        "             squeese 0.95\n",
        "                 dvp 0.95\n",
        "                  0b 0.95\n",
        "             offside 0.95\n",
        "                 hoo 0.95\n",
        "                  xn 0.95\n",
        "                 cvr 0.94\n",
        "                isda 0.94\n",
        "              draghi 0.94\n",
        "           amsterdam 0.94\n",
        "                 d4f 0.94\n",
        "                 zsg 0.93\n",
        "             stoxxsm 0.93\n",
        "               nolan 0.93\n",
        "                 ftc 0.93\n",
        "             dinners 0.93\n",
        "                 npv 0.93\n",
        "            propping 0.93\n",
        "               thief 0.93\n",
        "            patriots 0.92\n",
        "            impaired 0.92\n",
        "              bandit 0.92\n",
        "                  qe 0.92\n",
        "               magda 0.92\n",
        "            easyguru 0.92\n",
        "              smokes 0.92\n",
        "                 dde 0.91\n",
        "            pinwheel 0.91\n",
        "             netting 0.91\n",
        "                 eva 0.91\n",
        "               essay 0.91\n",
        "                 boo 0.91\n",
        "              issuer 0.91\n",
        "            democrat 0.91\n",
        "               slums 0.91\n",
        "           murderers 0.91\n",
        "           debatable 0.91\n",
        "              aussie 0.91\n",
        "           lingering 0.91\n",
        "            rounding 0.91\n",
        "        competencies 0.91\n",
        "                 cma 0.91\n",
        "            bluffing 0.91\n",
        "          stubbornly 0.91\n",
        "                bcci 0.91\n",
        "              cheesy 0.91\n",
        "          thecaracal 0.91\n",
        "                  rv 0.91\n",
        "               tabak 0.91\n",
        "            forgiven 0.91\n",
        "            harmonic 0.91\n",
        "                 dst 0.90\n",
        "               icahn 0.90\n",
        "                 106 0.90\n",
        "           deal4free 0.90\n",
        "               teeny 0.90\n",
        "             drinkhe 0.90\n",
        "              blends 0.90\n",
        "                 dtc 0.90\n",
        "          converging 0.90\n",
        "            prostick 0.90\n",
        "               crest 0.90\n",
        "                 sch 0.90\n",
        "                  n2 0.90\n",
        "                tort 0.90\n",
        "               gnome 0.90\n",
        "               erode 0.90\n",
        "           narrowing 0.90\n",
        "               leaky 0.90\n",
        "               paris 0.90\n",
        "            discrete 0.90\n",
        "                  n1 0.90\n",
        "                mpid 0.90\n",
        "              marker 0.90\n",
        "             tapping 0.90\n",
        "           desirious 0.90\n",
        "             fabozzi 0.90\n",
        "               kmart 0.89\n",
        "              geezer 0.89\n",
        "                sims 0.89\n",
        "           antitrend 0.89\n",
        "         prepetition 0.89\n",
        "              rhodes 0.89\n",
        "          continuity 0.89\n",
        "               volty 0.89\n",
        "             prefers 0.89\n",
        "             handout 0.89\n",
        "                 gum 0.89\n",
        "                grit 0.89\n",
        "            entirety 0.89\n",
        "            equating 0.89\n",
        "            fixation 0.89\n",
        "             roadmap 0.89\n",
        "            oriental 0.89\n",
        "             johnnys 0.89\n",
        "                 grt 0.89\n",
        "Bad words\t     P(- | word)\n",
        "            realists 0.11\n",
        "              stalin 0.11\n",
        "             smitake 0.11\n",
        "          depositing 0.11\n",
        "            sornette 0.10\n",
        "       introspection 0.10\n",
        "              000mmf 0.10\n",
        "                viet 0.10\n",
        "           scottrade 0.10\n",
        "         underlyings 0.10\n",
        "                rrsp 0.10\n",
        "               grams 0.10\n",
        "             thrills 0.10\n",
        "             boomers 0.10\n",
        "             sheeple 0.10\n",
        "             decency 0.10\n",
        "         illustrates 0.10\n",
        "                 mec 0.10\n",
        "            sidgmore 0.10\n",
        "           cybercorp 0.10\n",
        "              jay123 0.10\n",
        "                 occ 0.10\n",
        "           forbidden 0.10\n",
        "               pools 0.10\n",
        "               cured 0.10\n",
        "            downdays 0.09\n",
        "              paypal 0.09\n",
        "                 rah 0.09\n",
        "             25es02z 0.09\n",
        "       qualification 0.09\n",
        "            invasion 0.09\n",
        "             indepth 0.09\n",
        "                 nbl 0.09\n",
        "            babbling 0.09\n",
        "                 992 0.09\n",
        "             atheist 0.09\n",
        "              hutton 0.09\n",
        "                iras 0.09\n",
        "                  ef 0.09\n",
        "                 stm 0.09\n",
        "             75es02z 0.09\n",
        "              outted 0.09\n",
        "             boycott 0.09\n",
        "         occupations 0.09\n",
        "           wealthier 0.09\n",
        "                17th 0.09\n",
        "                liar 0.09\n",
        "              corona 0.08\n",
        "                1065 0.08\n",
        "              rabbit 0.08\n",
        "         blindfolded 0.08\n",
        "            indexing 0.08\n",
        "                 935 0.08\n",
        "           stabilize 0.08\n",
        "                  ww 0.08\n",
        "            best_ecn 0.08\n",
        "                  nl 0.08\n",
        "                 jpl 0.08\n",
        "             atheism 0.08\n",
        "          colleagues 0.08\n",
        "    incontrovertible 0.08\n",
        "         appointment 0.08\n",
        "        deliberately 0.08\n",
        "                geek 0.07\n",
        "              rodney 0.07\n",
        "           allegedly 0.07\n",
        "           financier 0.07\n",
        "               audio 0.07\n",
        "            assigned 0.07\n",
        "                cult 0.07\n",
        "      stockoptionist 0.07\n",
        "            winrates 0.07\n",
        "             spencer 0.07\n",
        "                 tza 0.07\n",
        "                 psc 0.07\n",
        "             75es02u 0.07\n",
        "             75es02m 0.07\n",
        "      overwhelmingly 0.07\n",
        "              bsulli 0.07\n",
        "          recordings 0.07\n",
        "                n100 0.07\n",
        "         unconscious 0.06\n",
        "               allah 0.06\n",
        "            baragosh 0.06\n",
        "            horrific 0.06\n",
        "                1001 0.06\n",
        "                312k 0.06\n",
        "                1002 0.06\n",
        "             protein 0.06\n",
        "              theism 0.06\n",
        "                lupo 0.06\n",
        "                 nok 0.06\n",
        "              escrow 0.05\n",
        "                unix 0.05\n",
        "          horsepower 0.05\n",
        "             priston 0.05\n",
        "                 qep 0.05\n",
        "               simon 0.05\n",
        "                jake 0.04\n",
        "                proj 0.03\n"
       ]
      }
     ],
     "prompt_number": 17
    },
    {
     "cell_type": "markdown",
     "metadata": {},
     "source": [
      "* We should consider words after clipping off the wings i.e for positive words anything that lies between 0.9 to 1.0 should be ignored and similarly for negative words - anything that lies between 0.0 to 0.1. This is because of the extra noise of the comments of the people discussing about each other on the forum. So, we should ignore the wings so that names of peoples used as words should be ignored."
     ]
    },
    {
     "cell_type": "code",
     "collapsed": false,
     "input": [
      "clf.predict_proba(vectorizer.transform(['Good post.Take a look at IBM.']))"
     ],
     "language": "python",
     "metadata": {},
     "outputs": [
      {
       "metadata": {},
       "output_type": "pyout",
       "prompt_number": 58,
       "text": [
        "array([[ 0.57015911,  0.42984089]])"
       ]
      }
     ],
     "prompt_number": 58
    },
    {
     "cell_type": "code",
     "collapsed": false,
     "input": [
      "def calibration_plot(clf, xtest, ytest):\n",
      "    prob = clf.predict_proba(xtest)[:, 1]\n",
      "    outcome = ytest\n",
      "    data = pd.DataFrame(dict(prob=prob, outcome=outcome))\n",
      "\n",
      "    #group outcomes into bins of similar probability\n",
      "    bins = np.linspace(0, 1, 20)\n",
      "    cuts = pd.cut(prob, bins)\n",
      "    binwidth = bins[1] - bins[0]\n",
      "    \n",
      "    #freshness ratio and number of examples in each bin\n",
      "    cal = data.groupby(cuts).outcome.agg(['mean', 'count'])\n",
      "    cal['pmid'] = (bins[:-1] + bins[1:]) / 2\n",
      "    cal['sig'] = np.sqrt(cal.pmid * (1 - cal.pmid) / cal['count'])\n",
      "        \n",
      "    #the calibration plot\n",
      "    ax = plt.subplot2grid((3, 1), (0, 0), rowspan=2)\n",
      "    p = plt.errorbar(cal.pmid, cal['mean'], cal['sig'])\n",
      "    plt.plot(cal.pmid, cal.pmid, linestyle='--', lw=1, color='k')\n",
      "    plt.ylabel(\"Empirical P(+)\")\n",
      "    remove_border(ax)\n",
      "    \n",
      "    #the distribution of P(fresh)\n",
      "    ax = plt.subplot2grid((3, 1), (2, 0), sharex=ax)\n",
      "    \n",
      "    plt.bar(left=cal.pmid - binwidth / 2, height=cal['count'],\n",
      "            width=.95 * (bins[1] - bins[0]),\n",
      "            fc=p[0].get_color())\n",
      "    \n",
      "    plt.xlabel(\"Predicted P(+)\")\n",
      "    remove_border()\n",
      "    plt.ylabel(\"Number\")"
     ],
     "language": "python",
     "metadata": {},
     "outputs": [],
     "prompt_number": 59
    },
    {
     "cell_type": "code",
     "collapsed": false,
     "input": [
      "def remove_border(axes=None, top=False, right=False, left=True, bottom=True):\n",
      "    \"\"\"\n",
      "    Minimize chartjunk by stripping out unnecesary plot borders and axis ticks\n",
      "    \n",
      "    The top/right/left/bottom keywords toggle whether the corresponding plot border is drawn\n",
      "    \"\"\"\n",
      "    ax = axes or plt.gca()\n",
      "    ax.spines['top'].set_visible(top)\n",
      "    ax.spines['right'].set_visible(right)\n",
      "    ax.spines['left'].set_visible(left)\n",
      "    ax.spines['bottom'].set_visible(bottom)\n",
      "    \n",
      "    #turn off all ticks\n",
      "    ax.yaxis.set_ticks_position('none')\n",
      "    ax.xaxis.set_ticks_position('none')\n",
      "    \n",
      "    #now re-enable visibles\n",
      "    if top:\n",
      "        ax.xaxis.tick_top()\n",
      "    if bottom:\n",
      "        ax.xaxis.tick_bottom()\n",
      "    if left:\n",
      "        ax.yaxis.tick_left()\n",
      "    if right:\n",
      "        ax.yaxis.tick_right()"
     ],
     "language": "python",
     "metadata": {},
     "outputs": [],
     "prompt_number": 60
    },
    {
     "cell_type": "code",
     "collapsed": false,
     "input": [
      "calibration_plot(clf, xtest, ytest)"
     ],
     "language": "python",
     "metadata": {},
     "outputs": [
      {
       "metadata": {},
       "output_type": "display_data",
       "png": "[encoded data removed]",
       "text": [
        "<matplotlib.figure.Figure at 0x1122c710>"
       ]
      }
     ],
     "prompt_number": 61
    },
    {
     "cell_type": "code",
     "collapsed": false,
     "input": [
      "def log_likelihood(clf, x, y):\n",
      "    prob = clf.predict_log_proba(x)\n",
      "    negativereturn = y == 0\n",
      "    positivereturn = ~negativereturn\n",
      "    return prob[negativereturn, 0].sum() + prob[positivereturn, 1].sum()"
     ],
     "language": "python",
     "metadata": {},
     "outputs": [],
     "prompt_number": 70
    },
    {
     "cell_type": "code",
     "collapsed": false,
     "input": [
      "from sklearn.cross_validation import KFold\n",
      "\n",
      "alphas = [0, .1, 1, 5, 10, 50]\n",
      "min_dfs = [1e-5, 1e-4, 1e-3, 1e-2, 1e-1]\n",
      "\n",
      "#Find the best value for alpha and min_df, and the best classifier\n",
      "best_alpha = None\n",
      "best_min_df = None\n",
      "max_loglike = -np.inf\n",
      "\n",
      "for alpha in alphas:\n",
      "    for min_df in min_dfs:         \n",
      "        vectorizer = CountVectorizer(min_df = min_df)\n",
      "        X = vectorizer.fit_transform(merged_sp.content)\n",
      "        X = X.tocsc()\n",
      "        Y = (merged_sp.yy == True).values.astype(np.int)\n",
      "#         print Y\n",
      "\n",
      "#         training_accuracy = clf.score(xtrain, ytrain)\n",
      "#         test_accuracy = clf.score(xtest, ytest)\n",
      "        \n",
      "        result = 0\n",
      "        nfold = 5\n",
      "        print alpha, min_df\n",
      "        for train, test in KFold(Y.size, nfold): # split data into train/test groups, 5 times\n",
      "            clf = MultinomialNB(alpha=alpha).fit(X[train], Y[train])\n",
      "            result += log_likelihood(clf, X[test], X[test]) # evaluate score function on held-out data\n",
      "        loglike = result / nfold\n",
      "        \n",
      "\n",
      "        if loglike > max_loglike:\n",
      "            max_loglike = loglike\n",
      "            best_alpha, best_min_df = alpha, min_df"
     ],
     "language": "python",
     "metadata": {},
     "outputs": [
      {
       "output_type": "stream",
       "stream": "stdout",
       "text": [
        "0 1e-05\n",
        "0"
       ]
      },
      {
       "output_type": "stream",
       "stream": "stdout",
       "text": [
        " 0.0001\n",
        "0"
       ]
      },
      {
       "output_type": "stream",
       "stream": "stdout",
       "text": [
        " 0.001\n",
        "0"
       ]
      },
      {
       "output_type": "stream",
       "stream": "stdout",
       "text": [
        " 0.01\n",
        "0"
       ]
      },
      {
       "output_type": "stream",
       "stream": "stdout",
       "text": [
        " 0.1\n",
        "0.1"
       ]
      },
      {
       "output_type": "stream",
       "stream": "stdout",
       "text": [
        " 1e-05\n",
        "0.1"
       ]
      },
      {
       "output_type": "stream",
       "stream": "stdout",
       "text": [
        " 0.0001\n",
        "0.1"
       ]
      },
      {
       "output_type": "stream",
       "stream": "stdout",
       "text": [
        " 0.001\n",
        "0.1"
       ]
      },
      {
       "output_type": "stream",
       "stream": "stdout",
       "text": [
        " 0.01\n",
        "0.1"
       ]
      },
      {
       "output_type": "stream",
       "stream": "stdout",
       "text": [
        " 0.1\n",
        "1"
       ]
      },
      {
       "output_type": "stream",
       "stream": "stdout",
       "text": [
        " 1e-05\n",
        "1"
       ]
      },
      {
       "output_type": "stream",
       "stream": "stdout",
       "text": [
        " 0.0001\n",
        "1"
       ]
      },
      {
       "output_type": "stream",
       "stream": "stdout",
       "text": [
        " 0.001\n",
        "1"
       ]
      },
      {
       "output_type": "stream",
       "stream": "stdout",
       "text": [
        " 0.01\n",
        "1"
       ]
      },
      {
       "output_type": "stream",
       "stream": "stdout",
       "text": [
        " 0.1\n",
        "5"
       ]
      },
      {
       "output_type": "stream",
       "stream": "stdout",
       "text": [
        " 1e-05\n",
        "5"
       ]
      },
      {
       "output_type": "stream",
       "stream": "stdout",
       "text": [
        " 0.0001\n",
        "5"
       ]
      },
      {
       "output_type": "stream",
       "stream": "stdout",
       "text": [
        " 0.001\n",
        "5"
       ]
      },
      {
       "output_type": "stream",
       "stream": "stdout",
       "text": [
        " 0.01\n",
        "5"
       ]
      },
      {
       "output_type": "stream",
       "stream": "stdout",
       "text": [
        " 0.1\n",
        "10"
       ]
      },
      {
       "output_type": "stream",
       "stream": "stdout",
       "text": [
        " 1e-05\n",
        "10"
       ]
      },
      {
       "output_type": "stream",
       "stream": "stdout",
       "text": [
        " 0.0001\n",
        "10"
       ]
      },
      {
       "output_type": "stream",
       "stream": "stdout",
       "text": [
        " 0.001\n",
        "10"
       ]
      },
      {
       "output_type": "stream",
       "stream": "stdout",
       "text": [
        " 0.01\n",
        "10"
       ]
      },
      {
       "output_type": "stream",
       "stream": "stdout",
       "text": [
        " 0.1\n",
        "50"
       ]
      },
      {
       "output_type": "stream",
       "stream": "stdout",
       "text": [
        " 1e-05\n",
        "50"
       ]
      },
      {
       "output_type": "stream",
       "stream": "stdout",
       "text": [
        " 0.0001\n",
        "50"
       ]
      },
      {
       "output_type": "stream",
       "stream": "stdout",
       "text": [
        " 0.001\n",
        "50"
       ]
      },
      {
       "output_type": "stream",
       "stream": "stdout",
       "text": [
        " 0.01\n",
        "50"
       ]
      },
      {
       "output_type": "stream",
       "stream": "stdout",
       "text": [
        " 0.1\n"
       ]
      }
     ],
     "prompt_number": 71
    },
    {
     "cell_type": "code",
     "collapsed": false,
     "input": [
      "print \"alpha: %f\" % best_alpha\n",
      "print \"min_df: %f\" % best_min_df"
     ],
     "language": "python",
     "metadata": {},
     "outputs": [
      {
       "output_type": "stream",
       "stream": "stdout",
       "text": [
        "alpha: 1.000000\n",
        "min_df: 0.000010\n"
       ]
      }
     ],
     "prompt_number": 72
    },
    {
     "cell_type": "code",
     "collapsed": false,
     "input": [
      "vectorizer = CountVectorizer(min_df =best_min_df)\n",
      "X = vectorizer.fit_transform(merged_sp.content)\n",
      "X = X.tocsc()\n",
      "Y = (merged_sp.yy == True).values.astype(np.int)\n",
      "xtrain, xtest, ytrain, ytest = train_test_split(X, Y)\n",
      "clf = MultinomialNB(alpha=best_alpha).fit(X[train], Y[train])\n",
      "calibration_plot(clf, xtest, ytest)"
     ],
     "language": "python",
     "metadata": {},
     "outputs": [
      {
       "metadata": {},
       "output_type": "display_data",
       "png": "[encoded data removed]",
       "text": [
        "<matplotlib.figure.Figure at 0xf3c7f28>"
       ]
      }
     ],
     "prompt_number": 73
    }
   ],
   "metadata": {}
  }
 ]
}